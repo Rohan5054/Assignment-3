# 1. Import Libraries and Load Data

import pandas as pd
import numpy as np
import matplotlib.pyplot as plt
import seaborn as sns

# Load Dataset
from io import StringIO

data = """Year,Australia,Canada,France,Germany,Italy,Japan,Mexico,South Korea,UK,USA
1990,,1.87,3.63,2.65,4.59,3.16,1,2.05,2.82,1.16
1991,1.96,1.92,3.45,2.9,4.5,3.46,1.3,2.49,3.01,1.14
1992,1.89,1.73,3.56,3.27,4.53,3.58,1.5,2.65,3.06,1.13
1993,1.73,1.57,3.41,3.07,3.68,4.16,1.56,2.88,2.84,1.11
1994,1.84,1.45,3.59,3.52,3.7,4.36,1.48,2.87,2.99,1.11
1995,1.95,1.53,4.26,3.96,4,4.43,1.11,2.94,3.21,1.15
1996,2.12,1.61,4.41,3.94,4.39,3.64,1.25,3.18,3.34,1.23
1997,2.05,1.62,4,3.53,4.07,3.26,1.47,3.34,3.83,1.23
1998,1.63,1.38,3.87,3.34,3.84,2.82,1.49,3.04,4.06,1.06
1999,1.72,1.52,3.85,3.42,3.87,3.27,1.79,3.8,4.29,1.17
2000,1.94,1.86,3.8,3.45,3.77,3.65,2.01,4.18,4.58,1.51
2001,1.71,1.72,3.51,3.4,3.57,3.27,2.2,3.76,4.13,1.46
2002,1.76,1.69,3.62,3.67,3.74,3.15,2.24,3.84,4.16,1.36
2003,2.19,1.99,4.35,4.59,4.53,3.47,2.04,4.11,4.7,1.59
2004,2.72,2.37,4.99,5.24,5.29,3.93,2.03,4.51,5.56,1.88
2005,3.23,2.89,5.46,5.66,5.74,4.28,2.22,5.28,5.97,2.3
2006,3.54,3.26,5.88,6.03,6.1,4.47,2.31,5.92,6.36,2.59
2007,3.85,3.59,6.6,6.88,6.73,4.49,2.4,6.21,7.13,2.8
2008,4.45,4.08,7.51,7.75,7.63,5.74,2.45,5.83,7.42,3.27"""

df = pd.read_csv(StringIO(data))

# Preview data
df.head()


# 2. Data Preprocessing/Overview

print("Dataset Shape:", df.shape)
print("Columns:", df.columns)
print("Missing Values:", df.isnull().sum())
print("Data Types:", df.dtypes)


# 3. Handling Missing Values


df.interpolate(inplace=True)

print("Missing Values After Imputation:", df.isnull().sum())

# 4. Univariate Analysis - Visualize Each Country's Trend

#USA
plt.figure(figsize=(10, 5))
plt.plot(df['Year'], df['USA'], marker='o', color='blue')
plt.title('USA Gas Prices (1990–2008)')
plt.xlabel('Year')
plt.ylabel('Gas Price (USD)')
plt.grid()
plt.show()

#Canada
plt.figure(figsize=(10, 5))
plt.plot(df['Year'], df['Canada'], marker='o', color='red')
plt.title('Canada Gas Prices (1990–2008)')
plt.xlabel('Year')
plt.ylabel('Gas Price (CAD)')
plt.grid()
plt.show()

#Australia
plt.figure(figsize=(10, 5))
plt.plot(df['Year'], df['Australia'], marker='o', color='green')
plt.title('Australia Gas Prices (1990–2008)')
plt.xlabel('Year')
plt.ylabel('Gas Price (AUD)')
plt.grid()
plt.show()


# 5. Multivariate Analysis - Compare Multiple Countries

plt.figure(figsize=(12, 6))

for country in ['USA', 'Canada', 'France', 'Germany', 'Italy']:
    plt.plot(df['Year'], df[country], marker='o', label=country)

plt.title('Gas Prices Comparison (1990–2008)')
plt.xlabel('Year')
plt.ylabel('Gas Price')
plt.legend()
plt.grid()
plt.show()


# 6. Correlation Heatmap

# Compute correlations
corr = df.drop('Year', axis=1).corr()

plt.figure(figsize=(10, 8))
sns.heatmap(corr, annot=True, cmap='coolwarm', fmt=".2f")
plt.title('Correlation Heatmap of Gas Prices')
plt.show()


# 7. Insights & Findings (Print)

# Summary Findings
print("""
Insights:

1️. USA had steady but lower gas prices compared to Europe.
2️. European countries like France, Germany, and Italy saw higher gas prices consistently.
3️. After 2000, prices surged across all countries, peaking around 2007-2008.
4️. Correlation shows that prices across countries move in similar directions.
5️. Australia's early missing values were successfully handled via interpolation.

""")
